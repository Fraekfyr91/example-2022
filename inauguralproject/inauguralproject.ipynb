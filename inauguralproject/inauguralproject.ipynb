{
 "cells": [
  {
   "cell_type": "markdown",
   "metadata": {},
   "source": [
    "# Inaugural Project"
   ]
  },
  {
   "cell_type": "markdown",
   "metadata": {},
   "source": [
    "> **Note the following:** \n",
    "> 1. This is an example of how to structure your **inaugural project**.\n",
    "> 1. Remember the general advice on structuring and commenting your code from [lecture 5](https://numeconcopenhagen.netlify.com/lectures/Workflow_and_debugging).\n",
    "> 1. Remember this [guide](https://www.markdownguide.org/basic-syntax/) on markdown and (a bit of) latex.\n",
    "> 1. Turn on automatic numbering by clicking on the small icon on top of the table of contents in the left sidebar.\n",
    "> 1. The `inauguralproject.py` file includes a function which can be used multiple times in this notebook."
   ]
  },
  {
   "cell_type": "markdown",
   "metadata": {},
   "source": [
    "Imports and set magics:"
   ]
  },
  {
   "cell_type": "code",
   "execution_count": 1,
   "metadata": {},
   "outputs": [],
   "source": [
    "import numpy as np\n",
    "import matplotlib.pyplot as plt\n",
    "from scipy import optimize\n",
    "# autoreload modules when code is run. Otherwise, python will not see recent changes. \n",
    "%load_ext autoreload\n",
    "%autoreload 2\n",
    "\n",
    "# Import your own code\n",
    "import inauguralproject"
   ]
  },
  {
   "cell_type": "markdown",
   "metadata": {},
   "source": [
    "# Question 1"
   ]
  },
  {
   "cell_type": "markdown",
   "metadata": {},
   "source": [
    "**Explain how you solve the model**"
   ]
  },
  {
   "cell_type": "code",
   "execution_count": 2,
   "metadata": {},
   "outputs": [],
   "source": [
    "def u(z,vartheta= -2):\n",
    "    return (z**(1+vartheta))/(1+vartheta)\n",
    "def V0(x,y=1,p=0.2):\n",
    "    return p* u(y-x)+(1-p)*u(y)\n",
    "def pi(q,p=0.2):\n",
    "    return p*q\n",
    "def V(q,x,y=1,p=0.2):\n",
    "    return p* u(y-x+q-pi(q,p)) + (1-p)*u(y-pi(q,p))\n",
    "def V2(q,pi,x=0.6,y=1,p=0.2):\n",
    "    return p* u(y-x+q-pi) + (1-p)*u(y-pi)\n"
   ]
  },
  {
   "cell_type": "code",
   "execution_count": 3,
   "metadata": {},
   "outputs": [
    {
     "data": {
      "text/plain": [
       "-2.5"
      ]
     },
     "execution_count": 3,
     "metadata": {},
     "output_type": "execute_result"
    }
   ],
   "source": [
    "u(0.4)"
   ]
  },
  {
   "cell_type": "code",
   "execution_count": 14,
   "metadata": {},
   "outputs": [],
   "source": [
    "\n",
    "def solve(x,y=1,p=0.2):\n",
    "    obj = lambda q: -V(q,x) \n",
    "    x0 = x/2   #initial guess\n",
    "    sol_case = optimize.minimize_scalar(\n",
    "                obj,x0,method='bounded',\n",
    "                bounds=(0,x))\n",
    "    if sol_case.success == False:\n",
    "        print(sol_case.message)\n",
    "    return sol_case.x"
   ]
  },
  {
   "cell_type": "code",
   "execution_count": 15,
   "metadata": {},
   "outputs": [
    {
     "data": {
      "image/png": "[encoded data removed]",
      "text/plain": [
       "<Figure size 432x288 with 1 Axes>"
      ]
     },
     "metadata": {
      "needs_background": "light"
     },
     "output_type": "display_data"
    }
   ],
   "source": [
    "v_vec = []\n",
    "x_vec = []\n",
    "qs_vec = []        \n",
    "for i in np.linspace(0.01, 0.9, num=50):\n",
    "    q_star = solve(i)\n",
    "    x_vec.append(i)\n",
    "    qs_vec.append(q_star)\n",
    "    v_vec.append(V(q_star,i))\n",
    "plt.plot(x_vec,qs_vec);\n",
    "#plt.plot(x_vec,v_vec);"
   ]
  },
  {
   "cell_type": "markdown",
   "metadata": {},
   "source": [
    "# Question 2"
   ]
  },
  {
   "cell_type": "markdown",
   "metadata": {},
   "source": [
    "Explain your code and procedure"
   ]
  },
  {
   "cell_type": "code",
   "execution_count": 10,
   "metadata": {},
   "outputs": [
    {
     "data": {
      "text/plain": [
       "[<matplotlib.lines.Line2D at 0x24f99f691f0>]"
      ]
     },
     "execution_count": 10,
     "metadata": {},
     "output_type": "execute_result"
    },
    {
     "data": {
      "image/png": "[encoded data removed]",
      "text/plain": [
       "<Figure size 432x288 with 1 Axes>"
      ]
     },
     "metadata": {
      "needs_background": "light"
     },
     "output_type": "display_data"
    }
   ],
   "source": [
    "def objective(q,x=0.6,y=1,p=0.2):\n",
    "    return V2(q,x,y,p) -V0(x,y,p)\n",
    "x= 0.6\n",
    "pitilde_vec = []\n",
    "q_vec = []\n",
    "V_vec = []\n",
    "count= 0\n",
    "for i in np.linspace(0.01, x, num=50):\n",
    "    x0= 1\n",
    "    sol = optimize.broyden1(objective, x0)\n",
    "    \n",
    "    pitilde_vec.append(pi(0.2,sol))\n",
    "    V_vec.append(V(sol,x=i,y=1,p=0.2))\n",
    "    q_vec.append(i)\n",
    "plt.plot(q_vec,pitilde_vec)\n",
    "#plt.plot(q_vec,V_vec);"
   ]
  },
  {
   "cell_type": "code",
   "execution_count": 22,
   "metadata": {},
   "outputs": [
    {
     "data": {
      "image/png": "[encoded data removed]",
      "text/plain": [
       "<Figure size 432x288 with 1 Axes>"
      ]
     },
     "metadata": {
      "needs_background": "light"
     },
     "output_type": "display_data"
    }
   ],
   "source": [
    "def objective(q,pi,x=0.6,y=1,p=0.2):\n",
    "    return V2(q,pi,x,y,p) -V0(x,y,p)\n",
    "x= 0.6\n",
    "pitilde_vec = []\n",
    "q_vec = []\n",
    "V_vec = []\n",
    "count= 0\n",
    "for i in np.linspace(0.01, x, num=1000):\n",
    "    x0= 1\n",
    "    #sol = optimize.broyden1(objective(q,i), x0)\n",
    "    sol = optimize.root(objective, x0, args=(i)) \n",
    "\n",
    "    pitilde_vec.append(pi(sol.x,0.2))\n",
    "    V_vec.append(-V2(sol.x,i,x=0.6,y=1,p=0.2))\n",
    "    q_vec.append(i)\n",
    "plt.plot(q_vec,pitilde_vec)\n",
    "plt.plot(q_vec,V_vec);"
   ]
  },
  {
   "cell_type": "code",
   "execution_count": 25,
   "metadata": {},
   "outputs": [
    {
     "name": "stdout",
     "output_type": "stream",
     "text": [
      "<zip object at 0x0000024F9A045E00>\n"
     ]
    }
   ],
   "source": []
  },
  {
   "cell_type": "markdown",
   "metadata": {},
   "source": [
    "# Question 3"
   ]
  },
  {
   "cell_type": "markdown",
   "metadata": {},
   "source": [
    "Explain your code and procedure"
   ]
  },
  {
   "cell_type": "code",
   "execution_count": 7,
   "metadata": {},
   "outputs": [],
   "source": [
    "# code"
   ]
  },
  {
   "cell_type": "markdown",
   "metadata": {},
   "source": [
    "ADD CONCISE CONLUSION."
   ]
  }
 ],
 "metadata": {
  "kernelspec": {
   "display_name": "Python 3 (ipykernel)",
   "language": "python",
   "name": "python3"
  },
  "language_info": {
   "codemirror_mode": {
    "name": "ipython",
    "version": 3
   },
   "file_extension": ".py",
   "mimetype": "text/x-python",
   "name": "python",
   "nbconvert_exporter": "python",
   "pygments_lexer": "ipython3",
   "version": "3.9.7"
  },
  "toc-autonumbering": true
 },
 "nbformat": 4,
 "nbformat_minor": 4
}
